version https://git-lfs.github.com/spec/v1
oid sha256:2ccae82cdbbd3344383da8112f4584ab78b8b4fb01b8cbbc5d7d2594b7eae10e
size 69001969
